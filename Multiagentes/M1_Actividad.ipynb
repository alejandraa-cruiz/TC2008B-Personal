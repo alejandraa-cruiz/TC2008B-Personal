{
 "cells": [
  {
   "cell_type": "code",
   "execution_count": 70,
   "metadata": {},
   "outputs": [],
   "source": [
    "from mesa import Agent, Model\n",
    "from mesa.time import RandomActivation\n",
    "from mesa.space import MultiGrid\n",
    "from mesa.datacollection import DataCollector\n",
    "\n",
    "import numpy as np\n",
    "import pandas as pd\n",
    "\n",
    "import time \n",
    "import datetime"
   ]
  },
  {
   "cell_type": "code",
   "execution_count": 71,
   "metadata": {},
   "outputs": [],
   "source": [
    "class CleaningRobotAgent(Agent):\n",
    "    def __init__ (self, id, model):\n",
    "        super().__init__(id, model)\n",
    "        \n",
    "    def step(self):\n",
    "        (x, y) = self.pos\n",
    "        if self.model.dirty_cells[x][y] == 1:\n",
    "            self.model.dirty_cells[x][y] = 0\n",
    "        else:\n",
    "            neighborhood = self.model.grid.get_neighborhood(self.pos, moore=True, include_center=False)\n",
    "            (x, y) = self.random.choice(neighborhood)\n",
    "            cell_content = self.model.grid.get_cell_list_contents([(x, y)])\n",
    "            if not cell_content:\n",
    "                self.model.grid.move_agent(self, (x, y))"
   ]
  },
  {
   "cell_type": "code",
   "execution_count": 72,
   "metadata": {},
   "outputs": [],
   "source": [
    "def get_grid(model):\n",
    "    grid_info = np.zeros((model.grid.width, model.grid.height))\n",
    "\n",
    "    for x in range(model.grid.width):\n",
    "        for y in range(model.grid.height):\n",
    "            cell_content = model.grid.get_cell_list_contents([(x, y)])\n",
    "\n",
    "            # Verifica la presencia de agentes\n",
    "            if cell_content:\n",
    "                grid_info[x][y] = 2\n",
    "\n",
    "            # Verifica el estado de limpieza de la celda\n",
    "            if not cell_content:\n",
    "                grid_info[x][y] = model.dirty_cells[x][y]\n",
    "\n",
    "    return grid_info"
   ]
  },
  {
   "cell_type": "code",
   "execution_count": 73,
   "metadata": {},
   "outputs": [],
   "source": [
    "class CleaningModel(Model):\n",
    "    def __init__ (self, width, height, num_vaccums, dirty_percentage):\n",
    "        self.num_vaccums = num_vaccums\n",
    "        self.amount_of_dirty_cells = int((width * height) * (dirty_percentage / 100))\n",
    "        self.schedule = RandomActivation(self)\n",
    "        self.grid = MultiGrid(width, height, False)\n",
    "        self.dirty_cells = np.zeros( (width, height) )\n",
    "        #Gets the position of the agents\n",
    "        self.datacollector = DataCollector(\n",
    "            model_reporters={\"Grid\": get_grid},\n",
    "            agent_reporters={\"Position\": \"pos\"}\n",
    "        )\n",
    "\n",
    "        #Initializes vacuums in cell [1,1]\n",
    "        for i in range(self.num_vaccums):\n",
    "            agent = CleaningRobotAgent(i, self)\n",
    "            self.schedule.add(agent)\n",
    "            self.grid.place_agent(agent, (1,1))\n",
    "\n",
    "        #Initializes dirty cells\n",
    "        count = 0\n",
    "        print(self.dirty_cells)\n",
    "        while count < self.amount_of_dirty_cells:\n",
    "            x = self.random.randrange(self.grid.width)\n",
    "            y = self.random.randrange(self.grid.height)\n",
    "            if self.dirty_cells[x][y] == 0:\n",
    "                self.dirty_cells[x][y] = 1\n",
    "                count += 1\n",
    "          \n",
    "    def step(self):\n",
    "        #Collects data from the agents defined in the reporters\n",
    "        self.datacollector.collect(self)\n",
    "        #Moves to the next step of the simulation\n",
    "        self.schedule.step()"
   ]
  },
  {
   "cell_type": "code",
   "execution_count": 79,
   "metadata": {},
   "outputs": [
    {
     "name": "stdout",
     "output_type": "stream",
     "text": [
      "Case 1 for 100 steps\n",
      "[[0. 0. 0. ... 0. 0. 0.]\n",
      " [0. 0. 0. ... 0. 0. 0.]\n",
      " [0. 0. 0. ... 0. 0. 0.]\n",
      " ...\n",
      " [0. 0. 0. ... 0. 0. 0.]\n",
      " [0. 0. 0. ... 0. 0. 0.]\n",
      " [0. 0. 0. ... 0. 0. 0.]]\n",
      "Remaining dirty cells: 8973.0\n",
      "Execution Time: 0:00:02.127341\n"
     ]
    }
   ],
   "source": [
    "WIDTH = 100\n",
    "HEIGHT = 100\n",
    "NUM_VACCUMS = 1\n",
    "DIRTY_PERCENTAGE = 90\n",
    "MAX_STEPS = 100\n",
    "\n",
    "print('Case 1 for 100 steps')\n",
    "start_time = time.time()\n",
    "model = CleaningModel(WIDTH, HEIGHT, NUM_VACCUMS, DIRTY_PERCENTAGE)\n",
    "for i in range(MAX_STEPS):\n",
    "    model.step()\n",
    "\n",
    "#Remaining dirty cells\n",
    "dirty_cells_count = np.sum(model.dirty_cells)\n",
    "print(\"Remaining dirty cells:\", dirty_cells_count)\n",
    "\n",
    "#Print execution time\n",
    "print('Execution Time:', str(datetime.timedelta(seconds=(time.time() - start_time))))"
   ]
  },
  {
   "cell_type": "code",
   "execution_count": 83,
   "metadata": {},
   "outputs": [
    {
     "name": "stdout",
     "output_type": "stream",
     "text": [
      "Case 2 for 100 steps\n",
      "[[0. 0. 0. ... 0. 0. 0.]\n",
      " [0. 0. 0. ... 0. 0. 0.]\n",
      " [0. 0. 0. ... 0. 0. 0.]\n",
      " ...\n",
      " [0. 0. 0. ... 0. 0. 0.]\n",
      " [0. 0. 0. ... 0. 0. 0.]\n",
      " [0. 0. 0. ... 0. 0. 0.]]\n",
      "Remaining dirty cells: 8938.0\n",
      "Execution Time: 0:00:02.210579\n"
     ]
    }
   ],
   "source": [
    "WIDTH = 100\n",
    "HEIGHT = 100\n",
    "NUM_VACCUMS = 2\n",
    "DIRTY_PERCENTAGE = 90\n",
    "MAX_STEPS = 100\n",
    "\n",
    "print('Case 2 for 100 steps')\n",
    "start_time = time.time()\n",
    "model = CleaningModel(WIDTH, HEIGHT, NUM_VACCUMS, DIRTY_PERCENTAGE)\n",
    "for i in range(MAX_STEPS):\n",
    "    model.step()\n",
    "\n",
    "#Remaining dirty cells\n",
    "dirty_cells_count = np.sum(model.dirty_cells)\n",
    "print(\"Remaining dirty cells:\", dirty_cells_count)\n",
    "\n",
    "#Print execution time\n",
    "print('Execution Time:', str(datetime.timedelta(seconds=(time.time() - start_time))))"
   ]
  },
  {
   "cell_type": "code",
   "execution_count": 81,
   "metadata": {},
   "outputs": [
    {
     "name": "stdout",
     "output_type": "stream",
     "text": [
      "Case 1 for 1000 steps\n",
      "[[0. 0. 0. ... 0. 0. 0.]\n",
      " [0. 0. 0. ... 0. 0. 0.]\n",
      " [0. 0. 0. ... 0. 0. 0.]\n",
      " ...\n",
      " [0. 0. 0. ... 0. 0. 0.]\n",
      " [0. 0. 0. ... 0. 0. 0.]\n",
      " [0. 0. 0. ... 0. 0. 0.]]\n",
      "Remaining dirty cells: 8719.0\n",
      "Execution Time: 0:00:15.458526\n"
     ]
    }
   ],
   "source": [
    "WIDTH = 100\n",
    "HEIGHT = 100\n",
    "NUM_VACCUMS = 1\n",
    "DIRTY_PERCENTAGE = 90\n",
    "MAX_STEPS = 1000\n",
    "\n",
    "print('Case 1 for 1000 steps')\n",
    "start_time = time.time()\n",
    "model = CleaningModel(WIDTH, HEIGHT, NUM_VACCUMS, DIRTY_PERCENTAGE)\n",
    "for i in range(MAX_STEPS):\n",
    "    model.step()\n",
    "\n",
    "#Remaining dirty cells\n",
    "dirty_cells_count = np.sum(model.dirty_cells)\n",
    "print(\"Remaining dirty cells:\", dirty_cells_count)\n",
    "\n",
    "#Print execution time\n",
    "print('Execution Time:', str(datetime.timedelta(seconds=(time.time() - start_time))))\n"
   ]
  },
  {
   "cell_type": "code",
   "execution_count": 84,
   "metadata": {},
   "outputs": [
    {
     "name": "stdout",
     "output_type": "stream",
     "text": [
      "Case 2 for 1000 steps\n",
      "[[0. 0. 0. ... 0. 0. 0.]\n",
      " [0. 0. 0. ... 0. 0. 0.]\n",
      " [0. 0. 0. ... 0. 0. 0.]\n",
      " ...\n",
      " [0. 0. 0. ... 0. 0. 0.]\n",
      " [0. 0. 0. ... 0. 0. 0.]\n",
      " [0. 0. 0. ... 0. 0. 0.]]\n",
      "Remaining dirty cells: 8637.0\n",
      "Execution Time: 0:00:15.811803\n"
     ]
    }
   ],
   "source": [
    "WIDTH = 100\n",
    "HEIGHT = 100\n",
    "NUM_VACCUMS = 2\n",
    "DIRTY_PERCENTAGE = 90\n",
    "MAX_STEPS = 1000\n",
    "\n",
    "print('Case 2 for 1000 steps')\n",
    "start_time = time.time()\n",
    "model = CleaningModel(WIDTH, HEIGHT, NUM_VACCUMS, DIRTY_PERCENTAGE)\n",
    "for i in range(MAX_STEPS):\n",
    "    model.step()\n",
    "\n",
    "#Remaining dirty cells\n",
    "dirty_cells_count = np.sum(model.dirty_cells)\n",
    "print(\"Remaining dirty cells:\", dirty_cells_count)\n",
    "\n",
    "#Print execution time\n",
    "print('Execution Time:', str(datetime.timedelta(seconds=(time.time() - start_time))))\n"
   ]
  },
  {
   "cell_type": "code",
   "execution_count": 82,
   "metadata": {},
   "outputs": [
    {
     "name": "stdout",
     "output_type": "stream",
     "text": [
      "Case 1 for 10000 steps\n",
      "[[0. 0. 0. ... 0. 0. 0.]\n",
      " [0. 0. 0. ... 0. 0. 0.]\n",
      " [0. 0. 0. ... 0. 0. 0.]\n",
      " ...\n",
      " [0. 0. 0. ... 0. 0. 0.]\n",
      " [0. 0. 0. ... 0. 0. 0.]\n",
      " [0. 0. 0. ... 0. 0. 0.]]\n",
      "Remaining dirty cells: 7085.0\n",
      "Execution Time: 0:02:39.802152\n"
     ]
    }
   ],
   "source": [
    "WIDTH = 100\n",
    "HEIGHT = 100\n",
    "NUM_VACCUMS = 1\n",
    "DIRTY_PERCENTAGE = 90\n",
    "MAX_STEPS = 10000\n",
    "\n",
    "print('Case 1 for 10000 steps')\n",
    "start_time = time.time()\n",
    "model = CleaningModel(WIDTH, HEIGHT, NUM_VACCUMS, DIRTY_PERCENTAGE)\n",
    "for i in range(MAX_STEPS):\n",
    "    model.step()\n",
    "\n",
    "#Remaining dirty cells\n",
    "dirty_cells_count = np.sum(model.dirty_cells)\n",
    "print(\"Remaining dirty cells:\", dirty_cells_count)\n",
    "\n",
    "#Print execution time\n",
    "print('Execution Time:', str(datetime.timedelta(seconds=(time.time() - start_time))))"
   ]
  },
  {
   "cell_type": "code",
   "execution_count": 85,
   "metadata": {},
   "outputs": [
    {
     "name": "stdout",
     "output_type": "stream",
     "text": [
      "Case 2 for 10000 steps\n",
      "[[0. 0. 0. ... 0. 0. 0.]\n",
      " [0. 0. 0. ... 0. 0. 0.]\n",
      " [0. 0. 0. ... 0. 0. 0.]\n",
      " ...\n",
      " [0. 0. 0. ... 0. 0. 0.]\n",
      " [0. 0. 0. ... 0. 0. 0.]\n",
      " [0. 0. 0. ... 0. 0. 0.]]\n",
      "Remaining dirty cells: 5106.0\n",
      "Execution Time: 0:02:51.185637\n"
     ]
    }
   ],
   "source": [
    "WIDTH = 100\n",
    "HEIGHT = 100\n",
    "NUM_VACCUMS = 2\n",
    "DIRTY_PERCENTAGE = 90\n",
    "MAX_STEPS = 10000\n",
    "\n",
    "print('Case 2 for 10000 steps')\n",
    "start_time = time.time()\n",
    "model = CleaningModel(WIDTH, HEIGHT, NUM_VACCUMS, DIRTY_PERCENTAGE)\n",
    "for i in range(MAX_STEPS):\n",
    "    model.step()\n",
    "\n",
    "#Remaining dirty cells\n",
    "dirty_cells_count = np.sum(model.dirty_cells)\n",
    "print(\"Remaining dirty cells:\", dirty_cells_count)\n",
    "\n",
    "#Print execution time\n",
    "print('Execution Time:', str(datetime.timedelta(seconds=(time.time() - start_time))))"
   ]
  },
  {
   "cell_type": "code",
   "execution_count": 87,
   "metadata": {},
   "outputs": [
    {
     "name": "stdout",
     "output_type": "stream",
     "text": [
      "Case 1 Steps required to clean all the cells\n",
      "[[0. 0. 0. ... 0. 0. 0.]\n",
      " [0. 0. 0. ... 0. 0. 0.]\n",
      " [0. 0. 0. ... 0. 0. 0.]\n",
      " ...\n",
      " [0. 0. 0. ... 0. 0. 0.]\n",
      " [0. 0. 0. ... 0. 0. 0.]\n",
      " [0. 0. 0. ... 0. 0. 0.]]\n",
      "Steps required: 214321\n",
      "Execution Time: 1:14:56.457664\n"
     ]
    }
   ],
   "source": [
    "WIDTH = 100\n",
    "HEIGHT = 100\n",
    "NUM_VACCUMS = 1\n",
    "DIRTY_PERCENTAGE = 90\n",
    "\n",
    "print('Case 1 Steps required to clean all the cells')\n",
    "start_time = time.time()\n",
    "model = CleaningModel(WIDTH, HEIGHT, NUM_VACCUMS, DIRTY_PERCENTAGE)\n",
    "dirty_cells_count = np.sum(model.dirty_cells)\n",
    "steps = 0\n",
    "\n",
    "while dirty_cells_count > 0:\n",
    "    model.step()\n",
    "    steps += 1\n",
    "    dirty_cells_count = np.sum(model.dirty_cells)\n",
    "\n",
    "#Print steps \n",
    "print(\"Steps required:\", steps)\n",
    "#Print execution time\n",
    "print('Execution Time:', str(datetime.timedelta(seconds=(time.time() - start_time))))"
   ]
  },
  {
   "cell_type": "code",
   "execution_count": 86,
   "metadata": {},
   "outputs": [
    {
     "name": "stdout",
     "output_type": "stream",
     "text": [
      "Case 2 Steps required to clean all the cells\n",
      "[[0. 0. 0. ... 0. 0. 0.]\n",
      " [0. 0. 0. ... 0. 0. 0.]\n",
      " [0. 0. 0. ... 0. 0. 0.]\n",
      " ...\n",
      " [0. 0. 0. ... 0. 0. 0.]\n",
      " [0. 0. 0. ... 0. 0. 0.]\n",
      " [0. 0. 0. ... 0. 0. 0.]]\n",
      "Steps required: 142721\n",
      "Execution Time: 0:38:08.953009\n"
     ]
    }
   ],
   "source": [
    "WIDTH = 100\n",
    "HEIGHT = 100\n",
    "NUM_VACCUMS = 2\n",
    "DIRTY_PERCENTAGE = 90\n",
    "\n",
    "print('Case 2 Steps required to clean all the cells')\n",
    "start_time = time.time()\n",
    "model = CleaningModel(WIDTH, HEIGHT, NUM_VACCUMS, DIRTY_PERCENTAGE)\n",
    "dirty_cells_count = np.sum(model.dirty_cells)\n",
    "steps = 0\n",
    "\n",
    "while dirty_cells_count > 0:\n",
    "    model.step()\n",
    "    steps += 1\n",
    "    dirty_cells_count = np.sum(model.dirty_cells)\n",
    "\n",
    "#Print steps \n",
    "print(\"Steps required:\", steps)\n",
    "#Print execution time\n",
    "print('Execution Time:', str(datetime.timedelta(seconds=(time.time() - start_time))))"
   ]
  }
 ],
 "metadata": {
  "kernelspec": {
   "display_name": "Python 3",
   "language": "python",
   "name": "python3"
  },
  "language_info": {
   "codemirror_mode": {
    "name": "ipython",
    "version": 3
   },
   "file_extension": ".py",
   "mimetype": "text/x-python",
   "name": "python",
   "nbconvert_exporter": "python",
   "pygments_lexer": "ipython3",
   "version": "3.11.0"
  }
 },
 "nbformat": 4,
 "nbformat_minor": 2
}
