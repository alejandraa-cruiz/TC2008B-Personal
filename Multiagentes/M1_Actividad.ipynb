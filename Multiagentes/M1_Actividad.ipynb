{
 "cells": [
  {
   "cell_type": "code",
   "execution_count": 20,
   "metadata": {},
   "outputs": [],
   "source": [
    "from mesa import Agent, Model\n",
    "from mesa.time import SimultaneousActivation\n",
    "from mesa.space import MultiGrid\n",
    "from mesa.datacollection import DataCollector\n",
    "\n",
    "import numpy as np\n",
    "import pandas as pd\n",
    "\n",
    "import time\n",
    "import datetime\n"
   ]
  },
  {
   "cell_type": "code",
   "execution_count": 21,
   "metadata": {},
   "outputs": [],
   "source": [
    "class CleaningRobot(Agent):\n",
    "    def __init__ (self, id, model, num_vaccums, dirty_percentage):\n",
    "        super().__init__(id, model)\n",
    "        self.num_vaccums = num_vaccums\n",
    "        self.dirty_percentage = dirty_percentage\n",
    "        \n",
    "    def step(self):\n",
    "        neighbors = self.model.grid.get_neighbors(self.pos, moore=True, include_center=False)\n",
    "        if len(neighbors) > 0:\n",
    "            self.model.grid.move_to_empty(self)\n",
    "        else:\n",
    "            # Cleans the cell if its dirty\n",
    "            if self.model.grid[self.pos[0]][self.pos[1]] == 1:\n",
    "                #Cleans the cell\n",
    "                self.model.grid[self.pos[0]][self.pos[1]] = 0  \n",
    "\n",
    "            # Moves to a empty cell\n",
    "            self.model.grid.move_to_empty(self)"
   ]
  },
  {
   "cell_type": "code",
   "execution_count": 22,
   "metadata": {},
   "outputs": [],
   "source": [
    "class CleaningRobot(Model):\n",
    "    def __init__ (self, width, height, num_vaccums, dirty_percentage):\n",
    "        self.num_vaccums = num_vaccums\n",
    "        self.dirty_cells = int((width * height) * (dirty_percentage / 100))\n",
    "        self.schedule = SimultaneousActivation(self)\n",
    "        self.space = MultiGrid(width, height, True)\n",
    "\n",
    "        #Initializes vacuums in cell [1,1]\n",
    "        for i in range(self.num_vaccums):\n",
    "            agent = CleaningRobot(i, self)\n",
    "            self.schedule.add(agent)\n",
    "            self.grid.place_agent(agent, (1,1))\n",
    "\n",
    "        #Initializes dirty cells\n",
    "        for cell in self.dirty_cells:\n",
    "            x = self.random.randrange(self.grid.width)\n",
    "            y = self.random.randrange(self.grid.height)\n",
    "            self.grid[x][y] = 1\n",
    "\n",
    "        #Gets the position of the agents\n",
    "        self.datacollector = DataCollector(\n",
    "            model_reporters={\"Dirty Cells\": \"dirty_cells\"},\n",
    "            agent_reporters={\"Position\": \"pos\"}\n",
    "        )\n",
    "    \n",
    "    def step(self):\n",
    "        #Collects data from the agents defined in the reporters\n",
    "        self.datacollector.collect(self)\n",
    "        #Moves to the next step of the simulation\n",
    "        self.schedule.step()"
   ]
  },
  {
   "cell_type": "code",
   "execution_count": 23,
   "metadata": {},
   "outputs": [
    {
     "ename": "TypeError",
     "evalue": "CleaningRobot.__init__() missing 2 required positional arguments: 'num_vaccums' and 'dirty_percentage'",
     "output_type": "error",
     "traceback": [
      "\u001b[1;31m---------------------------------------------------------------------------\u001b[0m",
      "\u001b[1;31mTypeError\u001b[0m                                 Traceback (most recent call last)",
      "\u001b[1;32mc:\\Users\\aleja\\Documents\\ITC5\\TC2008B\\TC2008B-Personal\\Multiagentes\\M1_Actividad.ipynb Cell 4\u001b[0m line \u001b[0;36m8\n\u001b[0;32m      <a href='vscode-notebook-cell:/c%3A/Users/aleja/Documents/ITC5/TC2008B/TC2008B-Personal/Multiagentes/M1_Actividad.ipynb#W3sZmlsZQ%3D%3D?line=4'>5</a>\u001b[0m MAX_STEPS \u001b[39m=\u001b[39m \u001b[39m100\u001b[39m\n\u001b[0;32m      <a href='vscode-notebook-cell:/c%3A/Users/aleja/Documents/ITC5/TC2008B/TC2008B-Personal/Multiagentes/M1_Actividad.ipynb#W3sZmlsZQ%3D%3D?line=6'>7</a>\u001b[0m start_time \u001b[39m=\u001b[39m time\u001b[39m.\u001b[39mtime()\n\u001b[1;32m----> <a href='vscode-notebook-cell:/c%3A/Users/aleja/Documents/ITC5/TC2008B/TC2008B-Personal/Multiagentes/M1_Actividad.ipynb#W3sZmlsZQ%3D%3D?line=7'>8</a>\u001b[0m model \u001b[39m=\u001b[39m CleaningRobot(WIDTH, HEIGHT, NUM_VACCUMS, DIRTY_PERCENTAGE)\n\u001b[0;32m      <a href='vscode-notebook-cell:/c%3A/Users/aleja/Documents/ITC5/TC2008B/TC2008B-Personal/Multiagentes/M1_Actividad.ipynb#W3sZmlsZQ%3D%3D?line=8'>9</a>\u001b[0m \u001b[39mfor\u001b[39;00m i \u001b[39min\u001b[39;00m \u001b[39mrange\u001b[39m(MAX_STEPS):\n\u001b[0;32m     <a href='vscode-notebook-cell:/c%3A/Users/aleja/Documents/ITC5/TC2008B/TC2008B-Personal/Multiagentes/M1_Actividad.ipynb#W3sZmlsZQ%3D%3D?line=9'>10</a>\u001b[0m     model\u001b[39m.\u001b[39mstep()\n",
      "\u001b[1;32mc:\\Users\\aleja\\Documents\\ITC5\\TC2008B\\TC2008B-Personal\\Multiagentes\\M1_Actividad.ipynb Cell 4\u001b[0m line \u001b[0;36m1\n\u001b[0;32m      <a href='vscode-notebook-cell:/c%3A/Users/aleja/Documents/ITC5/TC2008B/TC2008B-Personal/Multiagentes/M1_Actividad.ipynb#W3sZmlsZQ%3D%3D?line=7'>8</a>\u001b[0m \u001b[39m#Initializes vacuums in cell [1,1]\u001b[39;00m\n\u001b[0;32m      <a href='vscode-notebook-cell:/c%3A/Users/aleja/Documents/ITC5/TC2008B/TC2008B-Personal/Multiagentes/M1_Actividad.ipynb#W3sZmlsZQ%3D%3D?line=8'>9</a>\u001b[0m \u001b[39mfor\u001b[39;00m i \u001b[39min\u001b[39;00m \u001b[39mrange\u001b[39m(\u001b[39mself\u001b[39m\u001b[39m.\u001b[39mnum_vaccums):\n\u001b[1;32m---> <a href='vscode-notebook-cell:/c%3A/Users/aleja/Documents/ITC5/TC2008B/TC2008B-Personal/Multiagentes/M1_Actividad.ipynb#W3sZmlsZQ%3D%3D?line=9'>10</a>\u001b[0m     agent \u001b[39m=\u001b[39m CleaningRobot(i, \u001b[39mself\u001b[39;49m)\n\u001b[0;32m     <a href='vscode-notebook-cell:/c%3A/Users/aleja/Documents/ITC5/TC2008B/TC2008B-Personal/Multiagentes/M1_Actividad.ipynb#W3sZmlsZQ%3D%3D?line=10'>11</a>\u001b[0m     \u001b[39mself\u001b[39m\u001b[39m.\u001b[39mschedule\u001b[39m.\u001b[39madd(agent)\n\u001b[0;32m     <a href='vscode-notebook-cell:/c%3A/Users/aleja/Documents/ITC5/TC2008B/TC2008B-Personal/Multiagentes/M1_Actividad.ipynb#W3sZmlsZQ%3D%3D?line=11'>12</a>\u001b[0m     \u001b[39mself\u001b[39m\u001b[39m.\u001b[39mgrid\u001b[39m.\u001b[39mplace_agent(agent, (\u001b[39m1\u001b[39m,\u001b[39m1\u001b[39m))\n",
      "\u001b[1;31mTypeError\u001b[0m: CleaningRobot.__init__() missing 2 required positional arguments: 'num_vaccums' and 'dirty_percentage'"
     ]
    }
   ],
   "source": [
    "WIDTH = 100\n",
    "HEIGHT = 100\n",
    "NUM_VACCUMS = 1\n",
    "DIRTY_PERCENTAGE = 90\n",
    "MAX_STEPS = 100\n",
    "\n",
    "start_time = time.time()\n",
    "model = CleaningRobot(WIDTH, HEIGHT, NUM_VACCUMS, DIRTY_PERCENTAGE)\n",
    "for i in range(MAX_STEPS):\n",
    "    model.step()\n",
    "\n",
    "#Print execution time\n",
    "print('Execution Time:', str(datetime.timedelta(seconds=(time.time() - start_time))))\n"
   ]
  },
  {
   "cell_type": "code",
   "execution_count": null,
   "metadata": {},
   "outputs": [],
   "source": [
    "all_grid = model.datacollector.get_model_vars_dataframe()"
   ]
  },
  {
   "cell_type": "code",
   "execution_count": 25,
   "metadata": {},
   "outputs": [],
   "source": [
    "#DUDAS\n",
    "#Como hago la simulacion/animacion\n",
    "#Como corrijo el error\n",
    "#Como imprimo el porcentaje de celdas sucias al terminar la simulacion\n",
    "#Como se como hacer la limpieza lo mas optima posible"
   ]
  },
  {
   "cell_type": "code",
   "execution_count": null,
   "metadata": {},
   "outputs": [],
   "source": []
  }
 ],
 "metadata": {
  "kernelspec": {
   "display_name": "Python 3",
   "language": "python",
   "name": "python3"
  },
  "language_info": {
   "codemirror_mode": {
    "name": "ipython",
    "version": 3
   },
   "file_extension": ".py",
   "mimetype": "text/x-python",
   "name": "python",
   "nbconvert_exporter": "python",
   "pygments_lexer": "ipython3",
   "version": "3.11.0"
  }
 },
 "nbformat": 4,
 "nbformat_minor": 2
}
